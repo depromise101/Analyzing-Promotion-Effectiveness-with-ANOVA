{
 "cells": [
  {
   "cell_type": "markdown",
   "id": "2ed5b691",
   "metadata": {},
   "source": [
    "# Analyzing Promotion Effectiveness with ANOVA"
   ]
  },
  {
   "cell_type": "markdown",
   "id": "2ec6c7b0",
   "metadata": {},
   "source": [
    "# Business Problem\n",
    "As a data professional supporting our marketing team, I was tasked with uncovering whether different promotion types—like TV ads, social media campaigns, radio spots, and influencer partnerships—actually led to meaningful differences in sales. I explored the historical data, using visuals and descriptive stats to pinpoint a key promotional factor. From there, I built and validated a regression model, then ran a one-way ANOVA and post hoc test to dig deeper into group differences. The insights I shared helped the team confidently fine-tune their strategy and invest in the channels that truly drive results."
   ]
  },
  {
   "cell_type": "markdown",
   "id": "ca915a34",
   "metadata": {},
   "source": [
    "# Project Goals\n",
    "To identify whether different types of marketing promotions (TV, social media, radio, influencer) lead to statistically significant differences in sales, and to provide the team actionable insights that guide marketing strategy and budget allocation."
   ]
  },
  {
   "cell_type": "markdown",
   "id": "51e39b12",
   "metadata": {},
   "source": [
    "# Skills and Tools Applied\n",
    "- Exploratory Data Analysis (Python: pandas, seaborn, matplotlib)\n",
    "- Regression Modeling (Python: statsmodels, scikit-learn)\n",
    "- Diagnostic Checking (Python: sm.qqplot(), scipy.stats, seaborn)\n",
    "- Hypothesis Testing and Statistical Inference (Python: statsmodels, scipy.stats)\n",
    "- Post Hoc Analysis (e.g., Tukey’s HSD) (Python: statsmodels.stats.multicomp.pairwise_tukeyhsd())\n",
    "- Insight Communication / Data Storytelling (Jupyter Notebook with Markdown cells)"
   ]
  },
  {
   "cell_type": "code",
   "execution_count": 1,
   "id": "544143fd",
   "metadata": {},
   "outputs": [],
   "source": [
    "# Import libraries and packages\n",
    "\n",
    "import pandas as pd\n",
    "import matplotlib.pyplot as plt\n",
    "import seaborn as sns\n",
    "import statsmodels.api as sm\n",
    "from statsmodels.formula.api import ols\n",
    "from statsmodels.stats.multicomp import pairwise_tukeyhsd"
   ]
  },
  {
   "cell_type": "code",
   "execution_count": 2,
   "id": "fac6e5b7",
   "metadata": {},
   "outputs": [
    {
     "data": {
      "text/html": [
       "<div>\n",
       "<style scoped>\n",
       "    .dataframe tbody tr th:only-of-type {\n",
       "        vertical-align: middle;\n",
       "    }\n",
       "\n",
       "    .dataframe tbody tr th {\n",
       "        vertical-align: top;\n",
       "    }\n",
       "\n",
       "    .dataframe thead th {\n",
       "        text-align: right;\n",
       "    }\n",
       "</style>\n",
       "<table border=\"1\" class=\"dataframe\">\n",
       "  <thead>\n",
       "    <tr style=\"text-align: right;\">\n",
       "      <th></th>\n",
       "      <th>TV</th>\n",
       "      <th>Radio</th>\n",
       "      <th>Social Media</th>\n",
       "      <th>Influencer</th>\n",
       "      <th>Sales</th>\n",
       "    </tr>\n",
       "  </thead>\n",
       "  <tbody>\n",
       "    <tr>\n",
       "      <th>0</th>\n",
       "      <td>Low</td>\n",
       "      <td>1.218354</td>\n",
       "      <td>1.270444</td>\n",
       "      <td>Micro</td>\n",
       "      <td>90.054222</td>\n",
       "    </tr>\n",
       "    <tr>\n",
       "      <th>1</th>\n",
       "      <td>Medium</td>\n",
       "      <td>14.949791</td>\n",
       "      <td>0.274451</td>\n",
       "      <td>Macro</td>\n",
       "      <td>222.741668</td>\n",
       "    </tr>\n",
       "    <tr>\n",
       "      <th>2</th>\n",
       "      <td>Low</td>\n",
       "      <td>10.377258</td>\n",
       "      <td>0.061984</td>\n",
       "      <td>Mega</td>\n",
       "      <td>102.774790</td>\n",
       "    </tr>\n",
       "    <tr>\n",
       "      <th>3</th>\n",
       "      <td>High</td>\n",
       "      <td>26.469274</td>\n",
       "      <td>7.070945</td>\n",
       "      <td>Micro</td>\n",
       "      <td>328.239378</td>\n",
       "    </tr>\n",
       "    <tr>\n",
       "      <th>4</th>\n",
       "      <td>High</td>\n",
       "      <td>36.876302</td>\n",
       "      <td>7.618605</td>\n",
       "      <td>Mega</td>\n",
       "      <td>351.807328</td>\n",
       "    </tr>\n",
       "  </tbody>\n",
       "</table>\n",
       "</div>"
      ],
      "text/plain": [
       "       TV      Radio  Social Media Influencer       Sales\n",
       "0     Low   1.218354      1.270444      Micro   90.054222\n",
       "1  Medium  14.949791      0.274451      Macro  222.741668\n",
       "2     Low  10.377258      0.061984       Mega  102.774790\n",
       "3    High  26.469274      7.070945      Micro  328.239378\n",
       "4    High  36.876302      7.618605       Mega  351.807328"
      ]
     },
     "execution_count": 2,
     "metadata": {},
     "output_type": "execute_result"
    }
   ],
   "source": [
    "# load the dataset \n",
    "file = r\"C:\\Users\\DEPROMISE501\\Downloads\\marketing_sales_data.csv\"\n",
    "\n",
    "data = pd.read_csv(file)\n",
    "\n",
    "# Display the first ten rows\n",
    "data.head(5)\n"
   ]
  },
  {
   "cell_type": "markdown",
   "id": "c962332f",
   "metadata": {},
   "source": [
    "__The features in the data are:__\n",
    "\n",
    "- TV promotion budget (in Low, Medium, and High categories)\n",
    "- Social media promotion budget (in millions of dollars)\n",
    "- Radio promotion budget (in millions of dollars)\n",
    "- Sales (in millions of dollars)\n",
    "- Influencer size (in Mega, Macro, Nano, and Micro categories)"
   ]
  },
  {
   "cell_type": "markdown",
   "id": "776e5bd2",
   "metadata": {},
   "source": [
    "__DATA EXPLORATION__"
   ]
  },
  {
   "cell_type": "markdown",
   "id": "43d7b940",
   "metadata": {},
   "source": [
    "Descriptive Statistics of Sales by TV Promotion Type"
   ]
  },
  {
   "cell_type": "code",
   "execution_count": 3,
   "id": "2f590353",
   "metadata": {},
   "outputs": [
    {
     "data": {
      "text/html": [
       "<div>\n",
       "<style scoped>\n",
       "    .dataframe tbody tr th:only-of-type {\n",
       "        vertical-align: middle;\n",
       "    }\n",
       "\n",
       "    .dataframe tbody tr th {\n",
       "        vertical-align: top;\n",
       "    }\n",
       "\n",
       "    .dataframe thead th {\n",
       "        text-align: right;\n",
       "    }\n",
       "</style>\n",
       "<table border=\"1\" class=\"dataframe\">\n",
       "  <thead>\n",
       "    <tr style=\"text-align: right;\">\n",
       "      <th></th>\n",
       "      <th>count</th>\n",
       "      <th>mean</th>\n",
       "      <th>std</th>\n",
       "      <th>min</th>\n",
       "      <th>25%</th>\n",
       "      <th>50%</th>\n",
       "      <th>75%</th>\n",
       "      <th>max</th>\n",
       "    </tr>\n",
       "    <tr>\n",
       "      <th>TV</th>\n",
       "      <th></th>\n",
       "      <th></th>\n",
       "      <th></th>\n",
       "      <th></th>\n",
       "      <th></th>\n",
       "      <th></th>\n",
       "      <th></th>\n",
       "      <th></th>\n",
       "    </tr>\n",
       "  </thead>\n",
       "  <tbody>\n",
       "    <tr>\n",
       "      <th>Low</th>\n",
       "      <td>197.0</td>\n",
       "      <td>91.646843</td>\n",
       "      <td>32.444833</td>\n",
       "      <td>31.199409</td>\n",
       "      <td>62.500502</td>\n",
       "      <td>91.699773</td>\n",
       "      <td>120.117391</td>\n",
       "      <td>147.028897</td>\n",
       "    </tr>\n",
       "    <tr>\n",
       "      <th>Medium</th>\n",
       "      <td>197.0</td>\n",
       "      <td>199.023461</td>\n",
       "      <td>32.814657</td>\n",
       "      <td>142.416906</td>\n",
       "      <td>166.631361</td>\n",
       "      <td>204.376413</td>\n",
       "      <td>226.068098</td>\n",
       "      <td>251.241492</td>\n",
       "    </tr>\n",
       "    <tr>\n",
       "      <th>High</th>\n",
       "      <td>176.0</td>\n",
       "      <td>300.529591</td>\n",
       "      <td>30.665876</td>\n",
       "      <td>248.802379</td>\n",
       "      <td>273.103265</td>\n",
       "      <td>298.240051</td>\n",
       "      <td>327.961999</td>\n",
       "      <td>358.420739</td>\n",
       "    </tr>\n",
       "  </tbody>\n",
       "</table>\n",
       "</div>"
      ],
      "text/plain": [
       "        count        mean        std         min         25%         50%  \\\n",
       "TV                                                                         \n",
       "Low     197.0   91.646843  32.444833   31.199409   62.500502   91.699773   \n",
       "Medium  197.0  199.023461  32.814657  142.416906  166.631361  204.376413   \n",
       "High    176.0  300.529591  30.665876  248.802379  273.103265  298.240051   \n",
       "\n",
       "               75%         max  \n",
       "TV                              \n",
       "Low     120.117391  147.028897  \n",
       "Medium  226.068098  251.241492  \n",
       "High    327.961999  358.420739  "
      ]
     },
     "execution_count": 3,
     "metadata": {},
     "output_type": "execute_result"
    }
   ],
   "source": [
    "data.groupby('TV')['Sales'].describe().sort_values(by='mean', ascending=True)"
   ]
  },
  {
   "cell_type": "markdown",
   "id": "4071bccd",
   "metadata": {},
   "source": [
    "First, I will use a boxplot to determine how Sales vary based on TV promotion budget category"
   ]
  },
  {
   "cell_type": "code",
   "execution_count": 4,
   "id": "98b66bf1",
   "metadata": {},
   "outputs": [
    {
     "data": {
      "image/png": "[encoded data removed]",
      "text/plain": [
       "<Figure size 600x400 with 1 Axes>"
      ]
     },
     "metadata": {},
     "output_type": "display_data"
    }
   ],
   "source": [
    "# Create a boxplot with TV and Sales.\n",
    "\n",
    "plt.figure(figsize=(6, 4))\n",
    "\n",
    "sns.boxplot(x = \"TV\", y = \"Sales\", data = data)\n",
    "\n",
    "plt.title('Sales by TV Promotion Type')\n",
    "\n",
    "plt.tight_layout() \n",
    "\n",
    "plt.show()"
   ]
  },
  {
   "cell_type": "markdown",
   "id": "415c2cd3",
   "metadata": {},
   "source": [
    "Is there variation in Sales based off the TV promotion budget? Yes. There is considerable variation in Sales across the TV groups. High TV promotion is strongly associated with better sales performance, the significance of these differences can be tested with a one-way ANOVA."
   ]
  },
  {
   "cell_type": "markdown",
   "id": "c253214a",
   "metadata": {},
   "source": [
    "Now, I will use a boxplot to determine how Sales vary based on the Influencer size category"
   ]
  },
  {
   "cell_type": "code",
   "execution_count": 5,
   "id": "c1ac1356",
   "metadata": {},
   "outputs": [
    {
     "data": {
      "image/png": "[encoded data removed]",
      "text/plain": [
       "<Figure size 600x400 with 1 Axes>"
      ]
     },
     "metadata": {},
     "output_type": "display_data"
    }
   ],
   "source": [
    "# Create a boxplot with Influencer and Sales\n",
    "\n",
    "plt.figure(figsize=(6, 4))\n",
    "sns.boxplot(x = \"Influencer\", y = \"Sales\", data = data)\n",
    "\n",
    "plt.title('Sales by TV Promotion Type')\n",
    "\n",
    "plt.tight_layout() \n",
    "\n",
    "plt.show()"
   ]
  },
  {
   "cell_type": "markdown",
   "id": "a70b84cc",
   "metadata": {},
   "source": [
    "There is some variation in Sales across the Influencer groups, but it may not be significant. However, the \"Mega\" influencers appear to have a lower median sales compared to \"Micro\" and \"Macro.\""
   ]
  },
  {
   "cell_type": "code",
   "execution_count": 6,
   "id": "a369df95",
   "metadata": {},
   "outputs": [
    {
     "data": {
      "text/html": [
       "<div>\n",
       "<style scoped>\n",
       "    .dataframe tbody tr th:only-of-type {\n",
       "        vertical-align: middle;\n",
       "    }\n",
       "\n",
       "    .dataframe tbody tr th {\n",
       "        vertical-align: top;\n",
       "    }\n",
       "\n",
       "    .dataframe thead th {\n",
       "        text-align: right;\n",
       "    }\n",
       "</style>\n",
       "<table border=\"1\" class=\"dataframe\">\n",
       "  <thead>\n",
       "    <tr style=\"text-align: right;\">\n",
       "      <th></th>\n",
       "      <th>count</th>\n",
       "      <th>mean</th>\n",
       "      <th>std</th>\n",
       "      <th>min</th>\n",
       "      <th>25%</th>\n",
       "      <th>50%</th>\n",
       "      <th>75%</th>\n",
       "      <th>max</th>\n",
       "    </tr>\n",
       "    <tr>\n",
       "      <th>Influencer</th>\n",
       "      <th></th>\n",
       "      <th></th>\n",
       "      <th></th>\n",
       "      <th></th>\n",
       "      <th></th>\n",
       "      <th></th>\n",
       "      <th></th>\n",
       "      <th></th>\n",
       "    </tr>\n",
       "  </thead>\n",
       "  <tbody>\n",
       "    <tr>\n",
       "      <th>Mega</th>\n",
       "      <td>147.0</td>\n",
       "      <td>180.385096</td>\n",
       "      <td>97.884745</td>\n",
       "      <td>32.237030</td>\n",
       "      <td>102.113849</td>\n",
       "      <td>155.041237</td>\n",
       "      <td>271.125265</td>\n",
       "      <td>355.368871</td>\n",
       "    </tr>\n",
       "    <tr>\n",
       "      <th>Nano</th>\n",
       "      <td>148.0</td>\n",
       "      <td>190.777766</td>\n",
       "      <td>90.946770</td>\n",
       "      <td>31.199409</td>\n",
       "      <td>116.180606</td>\n",
       "      <td>195.742649</td>\n",
       "      <td>261.399683</td>\n",
       "      <td>354.292515</td>\n",
       "    </tr>\n",
       "    <tr>\n",
       "      <th>Micro</th>\n",
       "      <td>145.0</td>\n",
       "      <td>198.655080</td>\n",
       "      <td>83.242707</td>\n",
       "      <td>42.719955</td>\n",
       "      <td>130.161047</td>\n",
       "      <td>212.412506</td>\n",
       "      <td>261.966812</td>\n",
       "      <td>356.533252</td>\n",
       "    </tr>\n",
       "    <tr>\n",
       "      <th>Macro</th>\n",
       "      <td>131.0</td>\n",
       "      <td>205.660047</td>\n",
       "      <td>88.051879</td>\n",
       "      <td>32.566825</td>\n",
       "      <td>135.501076</td>\n",
       "      <td>211.036850</td>\n",
       "      <td>276.707499</td>\n",
       "      <td>358.420739</td>\n",
       "    </tr>\n",
       "  </tbody>\n",
       "</table>\n",
       "</div>"
      ],
      "text/plain": [
       "            count        mean        std        min         25%         50%  \\\n",
       "Influencer                                                                    \n",
       "Mega        147.0  180.385096  97.884745  32.237030  102.113849  155.041237   \n",
       "Nano        148.0  190.777766  90.946770  31.199409  116.180606  195.742649   \n",
       "Micro       145.0  198.655080  83.242707  42.719955  130.161047  212.412506   \n",
       "Macro       131.0  205.660047  88.051879  32.566825  135.501076  211.036850   \n",
       "\n",
       "                   75%         max  \n",
       "Influencer                          \n",
       "Mega        271.125265  355.368871  \n",
       "Nano        261.399683  354.292515  \n",
       "Micro       261.966812  356.533252  \n",
       "Macro       276.707499  358.420739  "
      ]
     },
     "execution_count": 6,
     "metadata": {},
     "output_type": "execute_result"
    }
   ],
   "source": [
    "data.groupby('Influencer')['Sales'].describe().sort_values(by='mean', ascending=True)"
   ]
  },
  {
   "cell_type": "markdown",
   "id": "30837549",
   "metadata": {},
   "source": [
    " __CHECK AND REMOVE MISSING DATA__"
   ]
  },
  {
   "cell_type": "code",
   "execution_count": 7,
   "id": "0ea26eb3",
   "metadata": {},
   "outputs": [
    {
     "data": {
      "text/plain": [
       "TV              0\n",
       "Radio           0\n",
       "Social Media    0\n",
       "Influencer      0\n",
       "Sales           0\n",
       "dtype: int64"
      ]
     },
     "execution_count": 7,
     "metadata": {},
     "output_type": "execute_result"
    }
   ],
   "source": [
    "# check for missing data \n",
    "\n",
    "data.isnull().any().sum()\n",
    "\n",
    "# Drop rows that contain missing data and update the DataFrame\n",
    "\n",
    "data = data.dropna(axis=0)\n",
    "\n",
    "# Confirm the data contain no missing values\n",
    "\n",
    "data.isnull().sum(axis=0)"
   ]
  },
  {
   "cell_type": "markdown",
   "id": "58cd62f0",
   "metadata": {},
   "source": [
    "\n",
    " __MODEL BUILDING__"
   ]
  },
  {
   "cell_type": "markdown",
   "id": "a15ccbe9",
   "metadata": {},
   "source": [
    "Fit a linear regression model that predicts Sales using one of the independent categorical variables\n",
    "in data."
   ]
  },
  {
   "cell_type": "code",
   "execution_count": 8,
   "id": "34aa7381",
   "metadata": {},
   "outputs": [
    {
     "data": {
      "text/html": [
       "<table class=\"simpletable\">\n",
       "<caption>OLS Regression Results</caption>\n",
       "<tr>\n",
       "  <th>Dep. Variable:</th>          <td>Sales</td>      <th>  R-squared:         </th> <td>   0.874</td> \n",
       "</tr>\n",
       "<tr>\n",
       "  <th>Model:</th>                   <td>OLS</td>       <th>  Adj. R-squared:    </th> <td>   0.874</td> \n",
       "</tr>\n",
       "<tr>\n",
       "  <th>Method:</th>             <td>Least Squares</td>  <th>  F-statistic:       </th> <td>   1971.</td> \n",
       "</tr>\n",
       "<tr>\n",
       "  <th>Date:</th>             <td>Thu, 19 Jun 2025</td> <th>  Prob (F-statistic):</th> <td>8.81e-256</td>\n",
       "</tr>\n",
       "<tr>\n",
       "  <th>Time:</th>                 <td>14:06:23</td>     <th>  Log-Likelihood:    </th> <td> -2778.9</td> \n",
       "</tr>\n",
       "<tr>\n",
       "  <th>No. Observations:</th>      <td>   569</td>      <th>  AIC:               </th> <td>   5564.</td> \n",
       "</tr>\n",
       "<tr>\n",
       "  <th>Df Residuals:</th>          <td>   566</td>      <th>  BIC:               </th> <td>   5577.</td> \n",
       "</tr>\n",
       "<tr>\n",
       "  <th>Df Model:</th>              <td>     2</td>      <th>                     </th>     <td> </td>    \n",
       "</tr>\n",
       "<tr>\n",
       "  <th>Covariance Type:</th>      <td>nonrobust</td>    <th>                     </th>     <td> </td>    \n",
       "</tr>\n",
       "</table>\n",
       "<table class=\"simpletable\">\n",
       "<tr>\n",
       "         <td></td>            <th>coef</th>     <th>std err</th>      <th>t</th>      <th>P>|t|</th>  <th>[0.025</th>    <th>0.975]</th>  \n",
       "</tr>\n",
       "<tr>\n",
       "  <th>Intercept</th>       <td>  300.5296</td> <td>    2.417</td> <td>  124.360</td> <td> 0.000</td> <td>  295.783</td> <td>  305.276</td>\n",
       "</tr>\n",
       "<tr>\n",
       "  <th>C(TV)[T.Low]</th>    <td> -208.8133</td> <td>    3.329</td> <td>  -62.720</td> <td> 0.000</td> <td> -215.353</td> <td> -202.274</td>\n",
       "</tr>\n",
       "<tr>\n",
       "  <th>C(TV)[T.Medium]</th> <td> -101.5061</td> <td>    3.325</td> <td>  -30.526</td> <td> 0.000</td> <td> -108.038</td> <td>  -94.975</td>\n",
       "</tr>\n",
       "</table>\n",
       "<table class=\"simpletable\">\n",
       "<tr>\n",
       "  <th>Omnibus:</th>       <td>450.714</td> <th>  Durbin-Watson:     </th> <td>   2.002</td>\n",
       "</tr>\n",
       "<tr>\n",
       "  <th>Prob(Omnibus):</th> <td> 0.000</td>  <th>  Jarque-Bera (JB):  </th> <td>  35.763</td>\n",
       "</tr>\n",
       "<tr>\n",
       "  <th>Skew:</th>          <td>-0.044</td>  <th>  Prob(JB):          </th> <td>1.71e-08</td>\n",
       "</tr>\n",
       "<tr>\n",
       "  <th>Kurtosis:</th>      <td> 1.775</td>  <th>  Cond. No.          </th> <td>    3.86</td>\n",
       "</tr>\n",
       "</table><br/><br/>Notes:<br/>[1] Standard Errors assume that the covariance matrix of the errors is correctly specified."
      ],
      "text/plain": [
       "<class 'statsmodels.iolib.summary.Summary'>\n",
       "\"\"\"\n",
       "                            OLS Regression Results                            \n",
       "==============================================================================\n",
       "Dep. Variable:                  Sales   R-squared:                       0.874\n",
       "Model:                            OLS   Adj. R-squared:                  0.874\n",
       "Method:                 Least Squares   F-statistic:                     1971.\n",
       "Date:                Thu, 19 Jun 2025   Prob (F-statistic):          8.81e-256\n",
       "Time:                        14:06:23   Log-Likelihood:                -2778.9\n",
       "No. Observations:                 569   AIC:                             5564.\n",
       "Df Residuals:                     566   BIC:                             5577.\n",
       "Df Model:                           2                                         \n",
       "Covariance Type:            nonrobust                                         \n",
       "===================================================================================\n",
       "                      coef    std err          t      P>|t|      [0.025      0.975]\n",
       "-----------------------------------------------------------------------------------\n",
       "Intercept         300.5296      2.417    124.360      0.000     295.783     305.276\n",
       "C(TV)[T.Low]     -208.8133      3.329    -62.720      0.000    -215.353    -202.274\n",
       "C(TV)[T.Medium]  -101.5061      3.325    -30.526      0.000    -108.038     -94.975\n",
       "==============================================================================\n",
       "Omnibus:                      450.714   Durbin-Watson:                   2.002\n",
       "Prob(Omnibus):                  0.000   Jarque-Bera (JB):               35.763\n",
       "Skew:                          -0.044   Prob(JB):                     1.71e-08\n",
       "Kurtosis:                       1.775   Cond. No.                         3.86\n",
       "==============================================================================\n",
       "\n",
       "Notes:\n",
       "[1] Standard Errors assume that the covariance matrix of the errors is correctly specified.\n",
       "\"\"\""
      ]
     },
     "execution_count": 8,
     "metadata": {},
     "output_type": "execute_result"
    }
   ],
   "source": [
    "# Define the OLS formula\n",
    "\n",
    "ols_formula = 'Sales ~ C(TV)'\n",
    "\n",
    "# Create an OLS model\n",
    "\n",
    "OLS = ols(formula = ols_formula, data = data)\n",
    "\n",
    "# Fit the model\n",
    "\n",
    "model = OLS.fit()\n",
    "\n",
    "# Save the results summary\n",
    "\n",
    "model_results = model.summary()\n",
    "\n",
    "# Display the model results\n",
    "\n",
    "model_results\n"
   ]
  },
  {
   "cell_type": "markdown",
   "id": "8b3bb997",
   "metadata": {},
   "source": [
    "__Notes:__ TV was selected because the preceding analysis showed a strong relationship between the TV promotion budget and the average Sales. Influencer was not selected because it did not show a strong relationship to Sales in the analysis."
   ]
  },
  {
   "cell_type": "markdown",
   "id": "8ee4bde0",
   "metadata": {},
   "source": [
    "The regression model result shows that TV promotion level has a strong and statistically significant impact on sales. High-intensity TV campaigns perform best, while Medium and Low levels lead to significantly fewer sales — by about 101 and 209 units, respectively. The model explains nearly 87% of the variation in sales, which means our insights are robust and actionable."
   ]
  },
  {
   "cell_type": "markdown",
   "id": "f444433f",
   "metadata": {},
   "source": [
    "__CHECK MODEL ASSUMPTIONS__"
   ]
  },
  {
   "cell_type": "markdown",
   "id": "e235d1dd",
   "metadata": {},
   "source": [
    "Now, I will check the four linear regression assumptions are upheld for your model."
   ]
  },
  {
   "cell_type": "markdown",
   "id": "b6a639dd",
   "metadata": {},
   "source": [
    "__Question 1:__ Is the linearity assumption met?\n",
    "\n",
    "Because your model does not have any continuous independent variables, the linearity assumption is not required.\n",
    "\n",
    "__Question 2:__ The independent observation assumption states that each observation in the dataset is independent. As each marketing promotion (row) is independent from one another, the independence assumption is not violated.\n",
    "\n",
    "__Question 3:__ Next, I'll verify that the normality assumption is upheld for the model."
   ]
  },
  {
   "cell_type": "code",
   "execution_count": 9,
   "id": "2a19f9b0",
   "metadata": {},
   "outputs": [
    {
     "data": {
      "image/png": "[encoded data removed]",
      "text/plain": [
       "<Figure size 800x400 with 2 Axes>"
      ]
     },
     "metadata": {},
     "output_type": "display_data"
    }
   ],
   "source": [
    "# Calculate the residuals\n",
    "\n",
    "residuals = model.resid\n",
    "\n",
    "# Create a 1x2 plot figure\n",
    "fig, axes = plt.subplots(1, 2, figsize = (8,4))\n",
    "\n",
    "# Create a histogram with the residuals\n",
    "\n",
    "sns.histplot(residuals, ax=axes[0])\n",
    "\n",
    "# Set the x label of the residual plot\n",
    "axes[0].set_xlabel(\"Residual Value\")\n",
    "\n",
    "# Set the title of the residual plot\n",
    "axes[0].set_title(\"Histogram of Residuals\")\n",
    "\n",
    "# Create a QQ plot of the residuals\n",
    "\n",
    "sm.qqplot(residuals, line='s', ax = axes[1])\n",
    "\n",
    "# Set the title of the QQ plot\n",
    "axes[1].set_title(\"Normal QQ Plot\")\n",
    "\n",
    "# Use matplotlib's tight_layout() function to add space between plots for a cleaner appearance\n",
    "plt.tight_layout(pad=4.0)\n",
    "\n",
    "# Show the plot\n",
    "plt.show()"
   ]
  },
  {
   "cell_type": "markdown",
   "id": "92927962",
   "metadata": {},
   "source": [
    "There is reasonable concern that the normality assumption is not met when TV is used as the independent variable predicting Sales. The normal q-q forms an 'S' that slightly deviates off the red diagonal line, which is not desired behavior.\n",
    "\n",
    "However, the overall pattern is not severely off-track. With a strong model fit (R² = 87.4%) and a good-sized dataset, this small violation likely won't harm the reliability of the results."
   ]
  },
  {
   "cell_type": "markdown",
   "id": "0a72486d",
   "metadata": {},
   "source": [
    "__Question 4:__ Now, verifying the constant variance (homoscedasticity) assumption is met for this model."
   ]
  },
  {
   "cell_type": "code",
   "execution_count": 10,
   "id": "df3660c2",
   "metadata": {},
   "outputs": [
    {
     "data": {
      "image/png": "[encoded data removed]",
      "text/plain": [
       "<Figure size 500x300 with 1 Axes>"
      ]
     },
     "metadata": {},
     "output_type": "display_data"
    }
   ],
   "source": [
    "# Create a scatter plot with the fitted values from the model and the residuals\n",
    "\n",
    "plt.figure(figsize=(5, 3)) # Reduced width to 5 inches and height to 3 inches\n",
    "\n",
    "fig = sns.scatterplot(x = model.fittedvalues, y = model.resid)\n",
    "\n",
    "# Set the x axis label\n",
    "fig.set_xlabel(\"Fitted Values\")\n",
    "\n",
    "# Set the y axis label\n",
    "fig.set_ylabel(\"Residuals\")\n",
    "\n",
    "# Set the title\n",
    "fig.set_title(\"Fitted Values   v.   Residuals\")\n",
    "\n",
    "# Add a line at y = 0 to visualize the variance of residuals above and below 0\n",
    "fig.axhline(y=0)\n",
    "\n",
    "# Show the plot\n",
    "plt.show()"
   ]
  },
  {
   "cell_type": "markdown",
   "id": "cfd8363f",
   "metadata": {},
   "source": [
    "The residuals are not randomly scattered. Instead, they form vertical clusters above and below zero at each of the fitted value levels (around 95, 200, and 300). This pattern directly corresponds to the distinct predicted sales values. Validating that the variance of the errors is constant across the different levels of our predictors (homoscedasticity). Thus, the assumption is met."
   ]
  },
  {
   "cell_type": "markdown",
   "id": "ab0e6ca1",
   "metadata": {},
   "source": [
    "__RESULTS AND EVALUATION__"
   ]
  },
  {
   "cell_type": "markdown",
   "id": "cce3d826",
   "metadata": {},
   "source": [
    "OLS Regression Results"
   ]
  },
  {
   "cell_type": "code",
   "execution_count": 11,
   "id": "b1752da8",
   "metadata": {},
   "outputs": [
    {
     "data": {
      "text/html": [
       "<table class=\"simpletable\">\n",
       "<caption>OLS Regression Results</caption>\n",
       "<tr>\n",
       "  <th>Dep. Variable:</th>          <td>Sales</td>      <th>  R-squared:         </th> <td>   0.874</td> \n",
       "</tr>\n",
       "<tr>\n",
       "  <th>Model:</th>                   <td>OLS</td>       <th>  Adj. R-squared:    </th> <td>   0.874</td> \n",
       "</tr>\n",
       "<tr>\n",
       "  <th>Method:</th>             <td>Least Squares</td>  <th>  F-statistic:       </th> <td>   1971.</td> \n",
       "</tr>\n",
       "<tr>\n",
       "  <th>Date:</th>             <td>Thu, 19 Jun 2025</td> <th>  Prob (F-statistic):</th> <td>8.81e-256</td>\n",
       "</tr>\n",
       "<tr>\n",
       "  <th>Time:</th>                 <td>14:06:23</td>     <th>  Log-Likelihood:    </th> <td> -2778.9</td> \n",
       "</tr>\n",
       "<tr>\n",
       "  <th>No. Observations:</th>      <td>   569</td>      <th>  AIC:               </th> <td>   5564.</td> \n",
       "</tr>\n",
       "<tr>\n",
       "  <th>Df Residuals:</th>          <td>   566</td>      <th>  BIC:               </th> <td>   5577.</td> \n",
       "</tr>\n",
       "<tr>\n",
       "  <th>Df Model:</th>              <td>     2</td>      <th>                     </th>     <td> </td>    \n",
       "</tr>\n",
       "<tr>\n",
       "  <th>Covariance Type:</th>      <td>nonrobust</td>    <th>                     </th>     <td> </td>    \n",
       "</tr>\n",
       "</table>\n",
       "<table class=\"simpletable\">\n",
       "<tr>\n",
       "         <td></td>            <th>coef</th>     <th>std err</th>      <th>t</th>      <th>P>|t|</th>  <th>[0.025</th>    <th>0.975]</th>  \n",
       "</tr>\n",
       "<tr>\n",
       "  <th>Intercept</th>       <td>  300.5296</td> <td>    2.417</td> <td>  124.360</td> <td> 0.000</td> <td>  295.783</td> <td>  305.276</td>\n",
       "</tr>\n",
       "<tr>\n",
       "  <th>C(TV)[T.Low]</th>    <td> -208.8133</td> <td>    3.329</td> <td>  -62.720</td> <td> 0.000</td> <td> -215.353</td> <td> -202.274</td>\n",
       "</tr>\n",
       "<tr>\n",
       "  <th>C(TV)[T.Medium]</th> <td> -101.5061</td> <td>    3.325</td> <td>  -30.526</td> <td> 0.000</td> <td> -108.038</td> <td>  -94.975</td>\n",
       "</tr>\n",
       "</table>\n",
       "<table class=\"simpletable\">\n",
       "<tr>\n",
       "  <th>Omnibus:</th>       <td>450.714</td> <th>  Durbin-Watson:     </th> <td>   2.002</td>\n",
       "</tr>\n",
       "<tr>\n",
       "  <th>Prob(Omnibus):</th> <td> 0.000</td>  <th>  Jarque-Bera (JB):  </th> <td>  35.763</td>\n",
       "</tr>\n",
       "<tr>\n",
       "  <th>Skew:</th>          <td>-0.044</td>  <th>  Prob(JB):          </th> <td>1.71e-08</td>\n",
       "</tr>\n",
       "<tr>\n",
       "  <th>Kurtosis:</th>      <td> 1.775</td>  <th>  Cond. No.          </th> <td>    3.86</td>\n",
       "</tr>\n",
       "</table><br/><br/>Notes:<br/>[1] Standard Errors assume that the covariance matrix of the errors is correctly specified."
      ],
      "text/plain": [
       "<class 'statsmodels.iolib.summary.Summary'>\n",
       "\"\"\"\n",
       "                            OLS Regression Results                            \n",
       "==============================================================================\n",
       "Dep. Variable:                  Sales   R-squared:                       0.874\n",
       "Model:                            OLS   Adj. R-squared:                  0.874\n",
       "Method:                 Least Squares   F-statistic:                     1971.\n",
       "Date:                Thu, 19 Jun 2025   Prob (F-statistic):          8.81e-256\n",
       "Time:                        14:06:23   Log-Likelihood:                -2778.9\n",
       "No. Observations:                 569   AIC:                             5564.\n",
       "Df Residuals:                     566   BIC:                             5577.\n",
       "Df Model:                           2                                         \n",
       "Covariance Type:            nonrobust                                         \n",
       "===================================================================================\n",
       "                      coef    std err          t      P>|t|      [0.025      0.975]\n",
       "-----------------------------------------------------------------------------------\n",
       "Intercept         300.5296      2.417    124.360      0.000     295.783     305.276\n",
       "C(TV)[T.Low]     -208.8133      3.329    -62.720      0.000    -215.353    -202.274\n",
       "C(TV)[T.Medium]  -101.5061      3.325    -30.526      0.000    -108.038     -94.975\n",
       "==============================================================================\n",
       "Omnibus:                      450.714   Durbin-Watson:                   2.002\n",
       "Prob(Omnibus):                  0.000   Jarque-Bera (JB):               35.763\n",
       "Skew:                          -0.044   Prob(JB):                     1.71e-08\n",
       "Kurtosis:                       1.775   Cond. No.                         3.86\n",
       "==============================================================================\n",
       "\n",
       "Notes:\n",
       "[1] Standard Errors assume that the covariance matrix of the errors is correctly specified.\n",
       "\"\"\""
      ]
     },
     "execution_count": 11,
     "metadata": {},
     "output_type": "execute_result"
    }
   ],
   "source": [
    "# Display the model results summary\n",
    "\n",
    "model_results"
   ]
  },
  {
   "cell_type": "markdown",
   "id": "201eee8f",
   "metadata": {},
   "source": [
    "- Using TV as the independent variable results in a linear regression model with  𝑅2=0.874\n",
    "  In other words, the model explains  87.4% of the variation in Sales. This makes the model an effective predictor of Sales.\n",
    "  \n",
    "  \n",
    "- What is the intepretation of the coefficient estimates? Are the coefficients statistically significant? The default TV category for the model is High, because there are coefficients for the other two TV categories, Medium and Low. According to the model, Sales with a Medium or Low TV category are lower on average than Sales with a High TV category. For example, the model predicts that a Low TV promotion would be 208.813 (in millions of dollars) lower in Sales on average than a High TV promotion.\n",
    "\n",
    "\n",
    "- The p-value for all coefficients is  0.000, meaning all coefficients are statistically significant at  𝑝=0.05. The 95% confidence intervals for each coefficient should be reported when presenting results to stakeholders. For instance, there is a  95% chance the interval  [−215.353, −202.274] contains the true parameter of the slope of  𝛽𝑇𝑉𝐿𝑜𝑤, which is the estimated difference in promotion sales when a Low TV promotion is chosen instead of a High TV promotion.\n",
    "\n",
    "\n",
    "- Simply put, these results strongly indicate that the level of TV promotion has a highly significant impact on sales. High TV campaigns lead to the highest sales. Medium campaigns lead to significantly lower sales than High, and Low campaigns lead to even more significantly lower sales than High. The consistent P>|t| values of 0.000 across all coefficients emphasize that these observed differences are very unlikely due to random chance."
   ]
  },
  {
   "cell_type": "markdown",
   "id": "2de06d69",
   "metadata": {},
   "source": [
    "__Could the model be improved? How?__\n",
    "\n",
    "YES — even though the model performs well (with R² = 0.874, which is strong), there can be improvement.\n",
    "\n",
    "Why it could be improved:\n",
    "\n",
    "Residual Patterns: If residuals show non-random patterns or non-normality (like skewness), it suggests the model might likely be missing something.\n",
    "\n",
    "Limited Predictors: The model only includes TV promotions — but sales are likely influenced by other channels (social media, Radio etc.)\n",
    "\n",
    "How to improve it:\n",
    "\n",
    "Including other promotions (e.g., social media, Radio, and influencer types) to build a multivariable model.\n",
    "\n",
    "Using cross-validation techniques like k-fold to check if the model generalizes well."
   ]
  },
  {
   "cell_type": "markdown",
   "id": "517367b9",
   "metadata": {},
   "source": [
    "__PERFORM A ONE-WAY ANOVA TEST__\n"
   ]
  },
  {
   "cell_type": "markdown",
   "id": "e3b4102a",
   "metadata": {},
   "source": [
    "With the model fit, run a one-way ANOVA test to determine whether there is a statistically significant difference in Sales among groups."
   ]
  },
  {
   "cell_type": "code",
   "execution_count": 12,
   "id": "c953f229",
   "metadata": {},
   "outputs": [
    {
     "data": {
      "text/html": [
       "<div>\n",
       "<style scoped>\n",
       "    .dataframe tbody tr th:only-of-type {\n",
       "        vertical-align: middle;\n",
       "    }\n",
       "\n",
       "    .dataframe tbody tr th {\n",
       "        vertical-align: top;\n",
       "    }\n",
       "\n",
       "    .dataframe thead th {\n",
       "        text-align: right;\n",
       "    }\n",
       "</style>\n",
       "<table border=\"1\" class=\"dataframe\">\n",
       "  <thead>\n",
       "    <tr style=\"text-align: right;\">\n",
       "      <th></th>\n",
       "      <th>sum_sq</th>\n",
       "      <th>df</th>\n",
       "      <th>F</th>\n",
       "      <th>PR(&gt;F)</th>\n",
       "    </tr>\n",
       "  </thead>\n",
       "  <tbody>\n",
       "    <tr>\n",
       "      <th>C(TV)</th>\n",
       "      <td>4.052692e+06</td>\n",
       "      <td>2.0</td>\n",
       "      <td>1971.455737</td>\n",
       "      <td>8.805550e-256</td>\n",
       "    </tr>\n",
       "    <tr>\n",
       "      <th>Residual</th>\n",
       "      <td>5.817589e+05</td>\n",
       "      <td>566.0</td>\n",
       "      <td>NaN</td>\n",
       "      <td>NaN</td>\n",
       "    </tr>\n",
       "  </tbody>\n",
       "</table>\n",
       "</div>"
      ],
      "text/plain": [
       "                sum_sq     df            F         PR(>F)\n",
       "C(TV)     4.052692e+06    2.0  1971.455737  8.805550e-256\n",
       "Residual  5.817589e+05  566.0          NaN            NaN"
      ]
     },
     "execution_count": 12,
     "metadata": {},
     "output_type": "execute_result"
    }
   ],
   "source": [
    "# Create an one-way ANOVA table for the fit model\n",
    "sm.stats.anova_lm(model, typ=2)"
   ]
  },
  {
   "cell_type": "markdown",
   "id": "20f85f0f",
   "metadata": {},
   "source": [
    "__Question: What are the null and alternative hypotheses for the ANOVA test?__\n",
    "\n",
    "The null hypothesis is that there is no difference in Sales based on the TV promotion budget.\n",
    "\n",
    "The alternative hypothesis is that there is a difference in Sales based on the TV promotion budget."
   ]
  },
  {
   "cell_type": "markdown",
   "id": "0b8fca3f",
   "metadata": {},
   "source": [
    "__ANOVA TEST RESULT SUMMARY__"
   ]
  },
  {
   "cell_type": "markdown",
   "id": "8d5b1e8d",
   "metadata": {},
   "source": [
    "1. C(TV) — This is the independent variable (TV promotion type).\n",
    "\n",
    "- sum_sq (4.05e+06): Amount of variation in sales explained by TV types.\n",
    "\n",
    "- df = 2: Two degrees of freedom (for 3 levels: Low, Medium, High).\n",
    "\n",
    "- F = 1971: A very large F-statistic__strong evidence of differences between TV types.\n",
    "\n",
    "- PR(>F) = 8.81e-256: The p-value is extremely small__the result is highly significant.\n",
    "\n",
    "2. Residual — Variation not explained by TV.\n",
    "\n",
    "- sum_sq = 5.82e+05: The leftover variation in sales.\n",
    "\n",
    "- df = 566: Based on number of observations minus number of independent variable (TV promotion type).\n",
    "\n",
    "\n",
    "Conclusively, this ANOVA table provides overwhelming statistical evidence that the TV promotion level has a highly significant impact on Sales. The low p-value (8.805550e-256) indicates that the observed differences in sales means across the TV promotion types are not due to random chance and are statistically significant.\n",
    "\n",
    "\n",
    "The results of the one-way ANOVA test indicate that I can reject the null hypothesis in favor of the alternative hypothesis. There is a statistically significant difference in Sales among TV groups."
   ]
  },
  {
   "cell_type": "markdown",
   "id": "6af1d6b8",
   "metadata": {},
   "source": [
    "__PERFORM AN ANOVA POST HOC TEST__"
   ]
  },
  {
   "cell_type": "markdown",
   "id": "4eb49d86",
   "metadata": {},
   "source": [
    "A post hoc test was conducted to determine which TV groups are different and how many are different from each other. This provides more detail than the one-way ANOVA results, which can at most determine that at least one group is different. Further, using the Tukey HSD controls for the increasing probability of incorrectly rejecting a null hypothesis from peforming multiple tests."
   ]
  },
  {
   "cell_type": "code",
   "execution_count": 14,
   "id": "ed1b1cab",
   "metadata": {},
   "outputs": [
    {
     "data": {
      "text/html": [
       "<table class=\"simpletable\">\n",
       "<caption>Multiple Comparison of Means - Tukey HSD, FWER=0.05</caption>\n",
       "<tr>\n",
       "  <th>group1</th> <th>group2</th> <th>meandiff</th>  <th>p-adj</th>   <th>lower</th>     <th>upper</th>   <th>reject</th>\n",
       "</tr>\n",
       "<tr>\n",
       "   <td>High</td>    <td>Low</td>  <td>-208.8133</td>  <td>0.0</td>  <td>-216.6367</td> <td>-200.9898</td>  <td>True</td> \n",
       "</tr>\n",
       "<tr>\n",
       "   <td>High</td>  <td>Medium</td> <td>-101.5061</td>  <td>0.0</td>  <td>-109.3202</td> <td>-93.6921</td>   <td>True</td> \n",
       "</tr>\n",
       "<tr>\n",
       "    <td>Low</td>  <td>Medium</td> <td>107.3072</td>   <td>0.0</td>   <td>99.7066</td>  <td>114.9077</td>   <td>True</td> \n",
       "</tr>\n",
       "</table>"
      ],
      "text/plain": [
       "<class 'statsmodels.iolib.table.SimpleTable'>"
      ]
     },
     "execution_count": 14,
     "metadata": {},
     "output_type": "execute_result"
    }
   ],
   "source": [
    "# Perform the Tukey's HSD post hoc test\n",
    "\n",
    "tukey_oneway = pairwise_tukeyhsd(endog = data[\"Sales\"], groups = data[\"TV\"])\n",
    "\n",
    "# Display the results\n",
    "\n",
    "tukey_oneway.summary()"
   ]
  },
  {
   "cell_type": "markdown",
   "id": "398c1761",
   "metadata": {},
   "source": [
    "__TUKEY HSD TEST RESULT SUMMARY?__\n",
    "\n",
    "The first row, which compares the High and Low TV groups, indicates that I can reject the null hypothesis __ that there is no significant difference between the Sales of these two groups.\n",
    "\n",
    "Clearly, I can also reject the null hypotheses for the two other pairwise comparisons that compare High to Medium and Low to Medium. "
   ]
  },
  {
   "cell_type": "markdown",
   "id": "1ef8d81a",
   "metadata": {},
   "source": [
    "__CONSIDERATIONS__"
   ]
  },
  {
   "cell_type": "markdown",
   "id": "44475bd3",
   "metadata": {},
   "source": [
    "Stakeholders summary report considering the statistical significance of key relationships and differences in distribution."
   ]
  },
  {
   "cell_type": "markdown",
   "id": "35e1dd6b",
   "metadata": {},
   "source": [
    "High TV promotion budgets result in significantly more sales than both medium and low TV promotion budgets. Medium TV promotion budgets result in significantly more sales than low TV promotion budgets.\n",
    "\n",
    "Specifically, following are estimates for the difference between the mean sales resulting from different pairs of TV promotions, as determined by the Tukey's HSD test:\n",
    "\n",
    "1. Estimated difference between the mean sales resulting from High and Low TV promotions: \\$208.81 million (with 95% confidence that the exact value for this difference is between 200.99 and 216.64 million dollars).\n",
    "\n",
    "2. Estimated difference between the mean sales resulting from High and Medium TV promotions: \\$101.51 million (with 95% confidence that the exact value for this difference is between 93.69 and 109.32 million dollars).\n",
    "\n",
    "3. difference between the mean sales resulting from Medium and Low TV promotions: \\$107.31 million (with 95% confidence that the exact value for this difference is between 99.71 and 114.91 million dollars).\n",
    "\n",
    "The linear regression model estimating Sales from TV had an R-squared of $0.871, making it a fairly accurate estimator. The model showed a statistically significant relationship between the TV promotion budget and Sales.\n",
    "\n",
    "The results of the one-way ANOVA test indicate that the null hypothesis that there is no difference in Sales based on the TV promotion budget can be rejected. Through the ANOVA post hoc test, a significant difference between all pairs of TV promotions was found.\n",
    "\n",
    "The difference in the distribution of sales across TV promotions was determined significant by both a one-way ANOVA test and a Tukey’s HSD test."
   ]
  }
 ],
 "metadata": {
  "kernelspec": {
   "display_name": "Python 3 (ipykernel)",
   "language": "python",
   "name": "python3"
  },
  "language_info": {
   "codemirror_mode": {
    "name": "ipython",
    "version": 3
   },
   "file_extension": ".py",
   "mimetype": "text/x-python",
   "name": "python",
   "nbconvert_exporter": "python",
   "pygments_lexer": "ipython3",
   "version": "3.9.13"
  }
 },
 "nbformat": 4,
 "nbformat_minor": 5
}
